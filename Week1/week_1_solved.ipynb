{
 "cells": [
  {
   "cell_type": "code",
   "execution_count": 1,
   "metadata": {},
   "outputs": [],
   "source": [
    "import numpy as np\n",
    "import pandas as pd\n",
    "import matplotlib.pyplot as plt\n",
    "\n",
    "import datetime\n",
    "import dateutil.relativedelta as rd"
   ]
  },
  {
   "cell_type": "markdown",
   "metadata": {},
   "source": [
    "## Numpy\n",
    "\n",
    "```np.array(list)```"
   ]
  },
  {
   "cell_type": "code",
   "execution_count": 2,
   "metadata": {},
   "outputs": [
    {
     "data": {
      "text/plain": [
       "array([1, 2, 3])"
      ]
     },
     "execution_count": 2,
     "metadata": {},
     "output_type": "execute_result"
    }
   ],
   "source": [
    "l1 = [1, 2, 3]\n",
    "np.array(l1)"
   ]
  },
  {
   "cell_type": "markdown",
   "metadata": {},
   "source": [
    "### Array in range\n",
    "\n",
    "```np.arrange(min, max, step)```"
   ]
  },
  {
   "cell_type": "code",
   "execution_count": 3,
   "metadata": {},
   "outputs": [
    {
     "data": {
      "text/plain": [
       "array([-12,  -7,  -2,   3,   8,  13,  18,  23,  28])"
      ]
     },
     "execution_count": 3,
     "metadata": {},
     "output_type": "execute_result"
    }
   ],
   "source": [
    "np.arange(-12, 30, 5)\n"
   ]
  },
  {
   "cell_type": "markdown",
   "metadata": {},
   "source": [
    "### Matrices\n",
    "\n",
    "```np.ones((row, column))```\n",
    "```np.zeros((row, column))```"
   ]
  },
  {
   "cell_type": "code",
   "execution_count": 4,
   "metadata": {},
   "outputs": [
    {
     "data": {
      "text/plain": [
       "array([[[0., 0., 0., ..., 0., 0., 0.],\n",
       "        [0., 0., 0., ..., 0., 0., 0.],\n",
       "        [0., 0., 0., ..., 0., 0., 0.],\n",
       "        ...,\n",
       "        [0., 0., 0., ..., 0., 0., 0.],\n",
       "        [0., 0., 0., ..., 0., 0., 0.],\n",
       "        [0., 0., 0., ..., 0., 0., 0.]],\n",
       "\n",
       "       [[0., 0., 0., ..., 0., 0., 0.],\n",
       "        [0., 0., 0., ..., 0., 0., 0.],\n",
       "        [0., 0., 0., ..., 0., 0., 0.],\n",
       "        ...,\n",
       "        [0., 0., 0., ..., 0., 0., 0.],\n",
       "        [0., 0., 0., ..., 0., 0., 0.],\n",
       "        [0., 0., 0., ..., 0., 0., 0.]],\n",
       "\n",
       "       [[0., 0., 0., ..., 0., 0., 0.],\n",
       "        [0., 0., 0., ..., 0., 0., 0.],\n",
       "        [0., 0., 0., ..., 0., 0., 0.],\n",
       "        ...,\n",
       "        [0., 0., 0., ..., 0., 0., 0.],\n",
       "        [0., 0., 0., ..., 0., 0., 0.],\n",
       "        [0., 0., 0., ..., 0., 0., 0.]]])"
      ]
     },
     "execution_count": 4,
     "metadata": {},
     "output_type": "execute_result"
    }
   ],
   "source": [
    "np.zeros((3, 255, 255))"
   ]
  },
  {
   "cell_type": "markdown",
   "metadata": {},
   "source": [
    "### Random\n",
    "\n",
    "```np.random.randint(low, high, size)```"
   ]
  },
  {
   "cell_type": "code",
   "execution_count": 5,
   "metadata": {},
   "outputs": [
    {
     "data": {
      "text/plain": [
       "array([1, 4, 2])"
      ]
     },
     "execution_count": 5,
     "metadata": {},
     "output_type": "execute_result"
    }
   ],
   "source": [
    "np.random.randint(0, 5, 3)"
   ]
  },
  {
   "cell_type": "markdown",
   "metadata": {},
   "source": [
    "### Random Matrices\n",
    "\n",
    "```np.random.randint(low, high, shape)```"
   ]
  },
  {
   "cell_type": "code",
   "execution_count": 6,
   "metadata": {},
   "outputs": [
    {
     "data": {
      "text/plain": [
       "array([[24, 91, 33, 89, 55],\n",
       "       [39, 94, 20, 97, 58],\n",
       "       [73, 49, 79, 76, 98],\n",
       "       [14, 51, 98, 83, 40],\n",
       "       [26, 92, 95, 64, 78]])"
      ]
     },
     "execution_count": 6,
     "metadata": {},
     "output_type": "execute_result"
    }
   ],
   "source": [
    "np.random.randint(10, 100, (5, 5))"
   ]
  },
  {
   "cell_type": "markdown",
   "metadata": {},
   "source": [
    "### Generate Defined Number of Values in Range\n",
    "\n",
    "```np.linspace(min, max, size)```"
   ]
  },
  {
   "cell_type": "code",
   "execution_count": 7,
   "metadata": {},
   "outputs": [
    {
     "data": {
      "text/plain": [
       "array([ 1.        ,  2.68965517,  4.37931034,  6.06896552,  7.75862069,\n",
       "        9.44827586, 11.13793103, 12.82758621, 14.51724138, 16.20689655,\n",
       "       17.89655172, 19.5862069 , 21.27586207, 22.96551724, 24.65517241,\n",
       "       26.34482759, 28.03448276, 29.72413793, 31.4137931 , 33.10344828,\n",
       "       34.79310345, 36.48275862, 38.17241379, 39.86206897, 41.55172414,\n",
       "       43.24137931, 44.93103448, 46.62068966, 48.31034483, 50.        ])"
      ]
     },
     "execution_count": 7,
     "metadata": {},
     "output_type": "execute_result"
    }
   ],
   "source": [
    "# np.linspace() metodumuz iki sayı arasında verdiğimiz period sayısı kadar eşit aralıklarla sayı üretir.\n",
    "# Yani linearly spaced array dediğimiz eşit aralıklı bir dizi oluşturur.\n",
    "np.linspace(1, 50, 30)"
   ]
  },
  {
   "cell_type": "markdown",
   "metadata": {},
   "source": [
    "### Reshape Arrays\n",
    "\n",
    "```ndarray.reshape(shape)```"
   ]
  },
  {
   "cell_type": "code",
   "execution_count": 8,
   "metadata": {},
   "outputs": [
    {
     "data": {
      "text/plain": [
       "array([[90, 97, 87, 57, 43, 97, 18, 67, 66, 47],\n",
       "       [40, 51, 31, 96, 40, 92, 77, 42, 96, 83],\n",
       "       [88, 17, 70, 57, 71, 55,  1, 13, 70, 77],\n",
       "       [23, 63,  2, 68, 70, 58, 75, 86, 72, 37],\n",
       "       [ 6, 58, 12, 52,  2, 17, 63, 29, 30, 77],\n",
       "       [55, 46, 99, 36, 96, 38, 24, 15, 35, 68],\n",
       "       [45, 56, 52, 53, 89, 48, 13, 27, 67, 20],\n",
       "       [47, 53,  9, 77, 94, 74, 57, 23, 98,  3],\n",
       "       [40, 93, 52, 51, 86, 11,  1, 73, 17, 65],\n",
       "       [93, 50, 46, 11, 79, 30, 64, 20, 73, 97]])"
      ]
     },
     "execution_count": 8,
     "metadata": {},
     "output_type": "execute_result"
    }
   ],
   "source": [
    "m1 = np.random.randint(1, 100, (10, 10))\n",
    "m1"
   ]
  },
  {
   "cell_type": "code",
   "execution_count": 9,
   "metadata": {},
   "outputs": [
    {
     "data": {
      "text/plain": [
       "array([[90, 97, 87, 57],\n",
       "       [43, 97, 18, 67],\n",
       "       [66, 47, 40, 51],\n",
       "       [31, 96, 40, 92],\n",
       "       [77, 42, 96, 83],\n",
       "       [88, 17, 70, 57],\n",
       "       [71, 55,  1, 13],\n",
       "       [70, 77, 23, 63],\n",
       "       [ 2, 68, 70, 58],\n",
       "       [75, 86, 72, 37],\n",
       "       [ 6, 58, 12, 52],\n",
       "       [ 2, 17, 63, 29],\n",
       "       [30, 77, 55, 46],\n",
       "       [99, 36, 96, 38],\n",
       "       [24, 15, 35, 68],\n",
       "       [45, 56, 52, 53],\n",
       "       [89, 48, 13, 27],\n",
       "       [67, 20, 47, 53],\n",
       "       [ 9, 77, 94, 74],\n",
       "       [57, 23, 98,  3],\n",
       "       [40, 93, 52, 51],\n",
       "       [86, 11,  1, 73],\n",
       "       [17, 65, 93, 50],\n",
       "       [46, 11, 79, 30],\n",
       "       [64, 20, 73, 97]])"
      ]
     },
     "execution_count": 9,
     "metadata": {},
     "output_type": "execute_result"
    }
   ],
   "source": [
    "# np.reshape() metodumuz ile dizimizi yeniden boyutlandırabiliriz.\n",
    "# Örneğin 10x10'luk bir matrisimiz var ve bunu 25x4'lük bir matrise çevirmek istiyoruz.\n",
    "# Bunun için reshape() metodunu kullanabiliriz.\n",
    "m1.reshape((25,4))"
   ]
  },
  {
   "cell_type": "markdown",
   "metadata": {},
   "source": [
    "```ndarray.flatten()```"
   ]
  },
  {
   "cell_type": "code",
   "execution_count": 10,
   "metadata": {},
   "outputs": [
    {
     "data": {
      "text/plain": [
       "array([90, 97, 87, 57, 43, 97, 18, 67, 66, 47, 40, 51, 31, 96, 40, 92, 77,\n",
       "       42, 96, 83, 88, 17, 70, 57, 71, 55,  1, 13, 70, 77, 23, 63,  2, 68,\n",
       "       70, 58, 75, 86, 72, 37,  6, 58, 12, 52,  2, 17, 63, 29, 30, 77, 55,\n",
       "       46, 99, 36, 96, 38, 24, 15, 35, 68, 45, 56, 52, 53, 89, 48, 13, 27,\n",
       "       67, 20, 47, 53,  9, 77, 94, 74, 57, 23, 98,  3, 40, 93, 52, 51, 86,\n",
       "       11,  1, 73, 17, 65, 93, 50, 46, 11, 79, 30, 64, 20, 73, 97])"
      ]
     },
     "execution_count": 10,
     "metadata": {},
     "output_type": "execute_result"
    }
   ],
   "source": [
    "# flatten() metodumuz ile matrisimizi tek boyutlu bir diziye çevirebiliriz.\n",
    "m1.flatten()"
   ]
  },
  {
   "cell_type": "markdown",
   "metadata": {},
   "source": [
    "### Indexing\n",
    "\n",
    "```ndarray[row, column, depth]```"
   ]
  },
  {
   "cell_type": "code",
   "execution_count": 11,
   "metadata": {},
   "outputs": [
    {
     "data": {
      "text/plain": [
       "83"
      ]
     },
     "execution_count": 11,
     "metadata": {},
     "output_type": "execute_result"
    }
   ],
   "source": [
    "m1[1, 9]"
   ]
  },
  {
   "cell_type": "markdown",
   "metadata": {},
   "source": [
    "### Filtering and Masking\n",
    "\n",
    "```ndarray[mask_condition]```"
   ]
  },
  {
   "cell_type": "code",
   "execution_count": 12,
   "metadata": {},
   "outputs": [
    {
     "data": {
      "text/plain": [
       "array([[90, 97, 87, 57, 43, 97, 18, 67, 66, 47],\n",
       "       [40, 51, 31, 96, 40, 92, 77, 42, 96, 83],\n",
       "       [88, 17, 70, 57, 71, 55,  1, 13, 70, 77],\n",
       "       [23, 63,  2, 68, 70, 58, 75, 86, 72, 37],\n",
       "       [ 6, 58, 12, 52,  2, 17, 63, 29, 30, 77],\n",
       "       [55, 46, 99, 36, 96, 38, 24, 15, 35, 68],\n",
       "       [45, 56, 52, 53, 89, 48, 13, 27, 67, 20],\n",
       "       [47, 53,  9, 77, 94, 74, 57, 23, 98,  3],\n",
       "       [40, 93, 52, 51, 86, 11,  1, 73, 17, 65],\n",
       "       [93, 50, 46, 11, 79, 30, 64, 20, 73, 97]])"
      ]
     },
     "execution_count": 12,
     "metadata": {},
     "output_type": "execute_result"
    }
   ],
   "source": [
    "m1"
   ]
  },
  {
   "cell_type": "code",
   "execution_count": 13,
   "metadata": {},
   "outputs": [
    {
     "data": {
      "text/plain": [
       "array([[ True,  True,  True,  True, False,  True, False,  True,  True,\n",
       "        False],\n",
       "       [False,  True, False,  True, False,  True,  True, False,  True,\n",
       "         True],\n",
       "       [ True, False,  True,  True,  True,  True, False, False,  True,\n",
       "         True],\n",
       "       [False,  True, False,  True,  True,  True,  True,  True,  True,\n",
       "        False],\n",
       "       [False,  True, False,  True, False, False,  True, False, False,\n",
       "         True],\n",
       "       [ True, False,  True, False,  True, False, False, False, False,\n",
       "         True],\n",
       "       [False,  True,  True,  True,  True, False, False, False,  True,\n",
       "        False],\n",
       "       [False,  True, False,  True,  True,  True,  True, False,  True,\n",
       "        False],\n",
       "       [False,  True,  True,  True,  True, False, False,  True, False,\n",
       "         True],\n",
       "       [ True, False, False, False,  True, False,  True, False,  True,\n",
       "         True]])"
      ]
     },
     "execution_count": 13,
     "metadata": {},
     "output_type": "execute_result"
    }
   ],
   "source": [
    "m1 > 50"
   ]
  },
  {
   "cell_type": "code",
   "execution_count": 14,
   "metadata": {},
   "outputs": [
    {
     "data": {
      "text/plain": [
       "array([90, 97, 87, 57, 97, 67, 66, 51, 96, 92, 77, 96, 83, 88, 70, 57, 71,\n",
       "       55, 70, 77, 63, 68, 70, 58, 75, 86, 72, 58, 52, 63, 77, 55, 99, 96,\n",
       "       68, 56, 52, 53, 89, 67, 53, 77, 94, 74, 57, 98, 93, 52, 51, 86, 73,\n",
       "       65, 93, 79, 64, 73, 97])"
      ]
     },
     "execution_count": 14,
     "metadata": {},
     "output_type": "execute_result"
    }
   ],
   "source": [
    "# m1 matrisindeki 50'den büyük değerleri seçmek için mask oluşturduk.\n",
    "mask1 = m1 > 50\n",
    "m1[mask1]"
   ]
  },
  {
   "cell_type": "markdown",
   "metadata": {},
   "source": [
    "### Statistical Operations\n",
    "\n",
    "```ndarray.mean()```\n",
    "```ndarray.std()```\n",
    "```ndarray.var()```\n",
    "```ndarray.min()```\n",
    "```ndarray.max()```"
   ]
  },
  {
   "cell_type": "code",
   "execution_count": 15,
   "metadata": {},
   "outputs": [
    {
     "data": {
      "text/plain": [
       "array([[90, 97, 87, 57, 43, 97, 18, 67, 66, 47],\n",
       "       [40, 51, 31, 96, 40, 92, 77, 42, 96, 83],\n",
       "       [88, 17, 70, 57, 71, 55,  1, 13, 70, 77],\n",
       "       [23, 63,  2, 68, 70, 58, 75, 86, 72, 37],\n",
       "       [ 6, 58, 12, 52,  2, 17, 63, 29, 30, 77],\n",
       "       [55, 46, 99, 36, 96, 38, 24, 15, 35, 68],\n",
       "       [45, 56, 52, 53, 89, 48, 13, 27, 67, 20],\n",
       "       [47, 53,  9, 77, 94, 74, 57, 23, 98,  3],\n",
       "       [40, 93, 52, 51, 86, 11,  1, 73, 17, 65],\n",
       "       [93, 50, 46, 11, 79, 30, 64, 20, 73, 97]])"
      ]
     },
     "execution_count": 15,
     "metadata": {},
     "output_type": "execute_result"
    }
   ],
   "source": [
    "m1"
   ]
  },
  {
   "cell_type": "code",
   "execution_count": 16,
   "metadata": {},
   "outputs": [
    {
     "data": {
      "text/plain": [
       "53.05"
      ]
     },
     "metadata": {},
     "output_type": "display_data"
    },
    {
     "data": {
      "text/plain": [
       "28.249734512026833"
      ]
     },
     "metadata": {},
     "output_type": "display_data"
    },
    {
     "data": {
      "text/plain": [
       "array([[90, 97, 87, 57, 43, 97, 18, 67, 66, 47],\n",
       "       [40, 51, 31, 96, 40, 92, 77, 42, 96, 83],\n",
       "       [88, 17, 70, 57, 71, 55,  1, 13, 70, 77],\n",
       "       [23, 63,  2, 68, 70, 58, 75, 86, 72, 37],\n",
       "       [55, 46, 99, 36, 96, 38, 24, 15, 35, 68],\n",
       "       [47, 53,  9, 77, 94, 74, 57, 23, 98,  3],\n",
       "       [93, 50, 46, 11, 79, 30, 64, 20, 73, 97]])"
      ]
     },
     "execution_count": 16,
     "metadata": {},
     "output_type": "execute_result"
    }
   ],
   "source": [
    "display(m1.mean())\n",
    "\n",
    "display(m1.std())\n",
    "\n",
    "# m1 matrisindeki her bir satırın ortalaması 50'den büyük olan satırları seçmek için mask oluşturduk.\n",
    "mask2 = [row.mean() > 50 for row in m1]\n",
    "m1[mask2]"
   ]
  },
  {
   "cell_type": "code",
   "execution_count": 17,
   "metadata": {},
   "outputs": [
    {
     "data": {
      "text/plain": [
       "[True, True, True, True, False, True, False, True, False, True]"
      ]
     },
     "execution_count": 17,
     "metadata": {},
     "output_type": "execute_result"
    }
   ],
   "source": [
    "mask2"
   ]
  },
  {
   "cell_type": "markdown",
   "metadata": {},
   "source": [
    "### Seed\n",
    "\n",
    "```np.random.seed(seed)```"
   ]
  },
  {
   "cell_type": "code",
   "execution_count": 18,
   "metadata": {},
   "outputs": [],
   "source": [
    "np.random.seed(42)"
   ]
  },
  {
   "cell_type": "markdown",
   "metadata": {},
   "source": [
    "``` np.random.randint(low, high, size)```"
   ]
  },
  {
   "cell_type": "code",
   "execution_count": 19,
   "metadata": {},
   "outputs": [
    {
     "data": {
      "text/plain": [
       "array([3, 4, 2, 4, 4])"
      ]
     },
     "execution_count": 19,
     "metadata": {},
     "output_type": "execute_result"
    }
   ],
   "source": [
    "np.random.randint(0, 5, 5)"
   ]
  },
  {
   "cell_type": "code",
   "execution_count": 20,
   "metadata": {},
   "outputs": [
    {
     "data": {
      "text/plain": [
       "[669, 648, 519, 554, 346, 512, 470, 535, 489, 563]"
      ]
     },
     "execution_count": 20,
     "metadata": {},
     "output_type": "execute_result"
    }
   ],
   "source": [
    "# Python'da tek satırda for döngüsü yazmak için list comprehension kullandık.\n",
    "# Örneğin m1 matrisindeki her bir satırın toplamını bir liste içerisinde tutmak için şunu yazabiliriz:\n",
    "[row.sum() for row in m1]"
   ]
  },
  {
   "cell_type": "markdown",
   "metadata": {},
   "source": [
    "# Pandas\n",
    "\n",
    "```pd.DataFrame(data, index, columns)```"
   ]
  },
  {
   "cell_type": "code",
   "execution_count": 21,
   "metadata": {},
   "outputs": [
    {
     "data": {
      "text/plain": [
       "0     82\n",
       "1     86\n",
       "2     74\n",
       "3     74\n",
       "4     87\n",
       "      ..\n",
       "95    88\n",
       "96    59\n",
       "97    40\n",
       "98    28\n",
       "99    14\n",
       "Length: 100, dtype: int32"
      ]
     },
     "execution_count": 21,
     "metadata": {},
     "output_type": "execute_result"
    }
   ],
   "source": [
    "pd.Series(np.random.randint(0, 100, 100))"
   ]
  },
  {
   "cell_type": "code",
   "execution_count": 22,
   "metadata": {},
   "outputs": [
    {
     "data": {
      "text/html": [
       "<div>\n",
       "<style scoped>\n",
       "    .dataframe tbody tr th:only-of-type {\n",
       "        vertical-align: middle;\n",
       "    }\n",
       "\n",
       "    .dataframe tbody tr th {\n",
       "        vertical-align: top;\n",
       "    }\n",
       "\n",
       "    .dataframe thead th {\n",
       "        text-align: right;\n",
       "    }\n",
       "</style>\n",
       "<table border=\"1\" class=\"dataframe\">\n",
       "  <thead>\n",
       "    <tr style=\"text-align: right;\">\n",
       "      <th></th>\n",
       "      <th>0</th>\n",
       "      <th>1</th>\n",
       "      <th>2</th>\n",
       "      <th>3</th>\n",
       "      <th>4</th>\n",
       "    </tr>\n",
       "  </thead>\n",
       "  <tbody>\n",
       "    <tr>\n",
       "      <th>0</th>\n",
       "      <td>44</td>\n",
       "      <td>64</td>\n",
       "      <td>88</td>\n",
       "      <td>70</td>\n",
       "      <td>8</td>\n",
       "    </tr>\n",
       "    <tr>\n",
       "      <th>1</th>\n",
       "      <td>87</td>\n",
       "      <td>0</td>\n",
       "      <td>7</td>\n",
       "      <td>87</td>\n",
       "      <td>62</td>\n",
       "    </tr>\n",
       "    <tr>\n",
       "      <th>2</th>\n",
       "      <td>10</td>\n",
       "      <td>80</td>\n",
       "      <td>7</td>\n",
       "      <td>34</td>\n",
       "      <td>34</td>\n",
       "    </tr>\n",
       "    <tr>\n",
       "      <th>3</th>\n",
       "      <td>32</td>\n",
       "      <td>4</td>\n",
       "      <td>40</td>\n",
       "      <td>27</td>\n",
       "      <td>6</td>\n",
       "    </tr>\n",
       "    <tr>\n",
       "      <th>4</th>\n",
       "      <td>72</td>\n",
       "      <td>71</td>\n",
       "      <td>11</td>\n",
       "      <td>33</td>\n",
       "      <td>32</td>\n",
       "    </tr>\n",
       "    <tr>\n",
       "      <th>...</th>\n",
       "      <td>...</td>\n",
       "      <td>...</td>\n",
       "      <td>...</td>\n",
       "      <td>...</td>\n",
       "      <td>...</td>\n",
       "    </tr>\n",
       "    <tr>\n",
       "      <th>95</th>\n",
       "      <td>57</td>\n",
       "      <td>74</td>\n",
       "      <td>28</td>\n",
       "      <td>35</td>\n",
       "      <td>88</td>\n",
       "    </tr>\n",
       "    <tr>\n",
       "      <th>96</th>\n",
       "      <td>20</td>\n",
       "      <td>35</td>\n",
       "      <td>9</td>\n",
       "      <td>72</td>\n",
       "      <td>23</td>\n",
       "    </tr>\n",
       "    <tr>\n",
       "      <th>97</th>\n",
       "      <td>63</td>\n",
       "      <td>98</td>\n",
       "      <td>48</td>\n",
       "      <td>98</td>\n",
       "      <td>35</td>\n",
       "    </tr>\n",
       "    <tr>\n",
       "      <th>98</th>\n",
       "      <td>81</td>\n",
       "      <td>95</td>\n",
       "      <td>23</td>\n",
       "      <td>22</td>\n",
       "      <td>61</td>\n",
       "    </tr>\n",
       "    <tr>\n",
       "      <th>99</th>\n",
       "      <td>95</td>\n",
       "      <td>36</td>\n",
       "      <td>11</td>\n",
       "      <td>54</td>\n",
       "      <td>12</td>\n",
       "    </tr>\n",
       "  </tbody>\n",
       "</table>\n",
       "<p>100 rows × 5 columns</p>\n",
       "</div>"
      ],
      "text/plain": [
       "     0   1   2   3   4\n",
       "0   44  64  88  70   8\n",
       "1   87   0   7  87  62\n",
       "2   10  80   7  34  34\n",
       "3   32   4  40  27   6\n",
       "4   72  71  11  33  32\n",
       "..  ..  ..  ..  ..  ..\n",
       "95  57  74  28  35  88\n",
       "96  20  35   9  72  23\n",
       "97  63  98  48  98  35\n",
       "98  81  95  23  22  61\n",
       "99  95  36  11  54  12\n",
       "\n",
       "[100 rows x 5 columns]"
      ]
     },
     "execution_count": 22,
     "metadata": {},
     "output_type": "execute_result"
    }
   ],
   "source": [
    "# Bir DataFrame'i içerisinde şu tür veriler ile oluşturabiliriz:\n",
    "# - Numpy dizileri\n",
    "# - Python sözlükleri\n",
    "# - Pandas serileri\n",
    "# - Pandas DataFrame'leri\n",
    "\n",
    "# Örneğin bir DataFrame'i Numpy dizileri ile oluşturmak için şu şekilde bir kod yazabiliriz:\n",
    "df = pd.DataFrame(np.random.randint(0, 100, (100, 5)))\n",
    "df"
   ]
  },
  {
   "cell_type": "markdown",
   "metadata": {},
   "source": [
    "#### Columns\n",
    "\n",
    "```DataFrame.columns```"
   ]
  },
  {
   "cell_type": "code",
   "execution_count": 23,
   "metadata": {},
   "outputs": [
    {
     "data": {
      "text/html": [
       "<div>\n",
       "<style scoped>\n",
       "    .dataframe tbody tr th:only-of-type {\n",
       "        vertical-align: middle;\n",
       "    }\n",
       "\n",
       "    .dataframe tbody tr th {\n",
       "        vertical-align: top;\n",
       "    }\n",
       "\n",
       "    .dataframe thead th {\n",
       "        text-align: right;\n",
       "    }\n",
       "</style>\n",
       "<table border=\"1\" class=\"dataframe\">\n",
       "  <thead>\n",
       "    <tr style=\"text-align: right;\">\n",
       "      <th></th>\n",
       "      <th>A</th>\n",
       "      <th>B</th>\n",
       "      <th>C</th>\n",
       "      <th>D</th>\n",
       "      <th>E</th>\n",
       "    </tr>\n",
       "  </thead>\n",
       "  <tbody>\n",
       "    <tr>\n",
       "      <th>0</th>\n",
       "      <td>44</td>\n",
       "      <td>64</td>\n",
       "      <td>88</td>\n",
       "      <td>70</td>\n",
       "      <td>8</td>\n",
       "    </tr>\n",
       "    <tr>\n",
       "      <th>1</th>\n",
       "      <td>87</td>\n",
       "      <td>0</td>\n",
       "      <td>7</td>\n",
       "      <td>87</td>\n",
       "      <td>62</td>\n",
       "    </tr>\n",
       "    <tr>\n",
       "      <th>2</th>\n",
       "      <td>10</td>\n",
       "      <td>80</td>\n",
       "      <td>7</td>\n",
       "      <td>34</td>\n",
       "      <td>34</td>\n",
       "    </tr>\n",
       "    <tr>\n",
       "      <th>3</th>\n",
       "      <td>32</td>\n",
       "      <td>4</td>\n",
       "      <td>40</td>\n",
       "      <td>27</td>\n",
       "      <td>6</td>\n",
       "    </tr>\n",
       "    <tr>\n",
       "      <th>4</th>\n",
       "      <td>72</td>\n",
       "      <td>71</td>\n",
       "      <td>11</td>\n",
       "      <td>33</td>\n",
       "      <td>32</td>\n",
       "    </tr>\n",
       "    <tr>\n",
       "      <th>...</th>\n",
       "      <td>...</td>\n",
       "      <td>...</td>\n",
       "      <td>...</td>\n",
       "      <td>...</td>\n",
       "      <td>...</td>\n",
       "    </tr>\n",
       "    <tr>\n",
       "      <th>95</th>\n",
       "      <td>57</td>\n",
       "      <td>74</td>\n",
       "      <td>28</td>\n",
       "      <td>35</td>\n",
       "      <td>88</td>\n",
       "    </tr>\n",
       "    <tr>\n",
       "      <th>96</th>\n",
       "      <td>20</td>\n",
       "      <td>35</td>\n",
       "      <td>9</td>\n",
       "      <td>72</td>\n",
       "      <td>23</td>\n",
       "    </tr>\n",
       "    <tr>\n",
       "      <th>97</th>\n",
       "      <td>63</td>\n",
       "      <td>98</td>\n",
       "      <td>48</td>\n",
       "      <td>98</td>\n",
       "      <td>35</td>\n",
       "    </tr>\n",
       "    <tr>\n",
       "      <th>98</th>\n",
       "      <td>81</td>\n",
       "      <td>95</td>\n",
       "      <td>23</td>\n",
       "      <td>22</td>\n",
       "      <td>61</td>\n",
       "    </tr>\n",
       "    <tr>\n",
       "      <th>99</th>\n",
       "      <td>95</td>\n",
       "      <td>36</td>\n",
       "      <td>11</td>\n",
       "      <td>54</td>\n",
       "      <td>12</td>\n",
       "    </tr>\n",
       "  </tbody>\n",
       "</table>\n",
       "<p>100 rows × 5 columns</p>\n",
       "</div>"
      ],
      "text/plain": [
       "     A   B   C   D   E\n",
       "0   44  64  88  70   8\n",
       "1   87   0   7  87  62\n",
       "2   10  80   7  34  34\n",
       "3   32   4  40  27   6\n",
       "4   72  71  11  33  32\n",
       "..  ..  ..  ..  ..  ..\n",
       "95  57  74  28  35  88\n",
       "96  20  35   9  72  23\n",
       "97  63  98  48  98  35\n",
       "98  81  95  23  22  61\n",
       "99  95  36  11  54  12\n",
       "\n",
       "[100 rows x 5 columns]"
      ]
     },
     "execution_count": 23,
     "metadata": {},
     "output_type": "execute_result"
    }
   ],
   "source": [
    "df.columns = ['A', 'B', 'C', 'D', 'E']\n",
    "df"
   ]
  },
  {
   "cell_type": "markdown",
   "metadata": {},
   "source": [
    "### Indexing\n",
    "\n",
    "``DataFrame[column]``\n",
    "``DataFrame.loc[index]``\n",
    "``DataFrame.iloc[i_index]``"
   ]
  },
  {
   "cell_type": "code",
   "execution_count": 24,
   "metadata": {},
   "outputs": [
    {
     "data": {
      "text/plain": [
       "80"
      ]
     },
     "execution_count": 24,
     "metadata": {},
     "output_type": "execute_result"
    }
   ],
   "source": [
    "df['B'][2]"
   ]
  },
  {
   "cell_type": "code",
   "execution_count": 25,
   "metadata": {},
   "outputs": [
    {
     "data": {
      "text/html": [
       "<div>\n",
       "<style scoped>\n",
       "    .dataframe tbody tr th:only-of-type {\n",
       "        vertical-align: middle;\n",
       "    }\n",
       "\n",
       "    .dataframe tbody tr th {\n",
       "        vertical-align: top;\n",
       "    }\n",
       "\n",
       "    .dataframe thead th {\n",
       "        text-align: right;\n",
       "    }\n",
       "</style>\n",
       "<table border=\"1\" class=\"dataframe\">\n",
       "  <thead>\n",
       "    <tr style=\"text-align: right;\">\n",
       "      <th></th>\n",
       "      <th>A</th>\n",
       "      <th>B</th>\n",
       "      <th>C</th>\n",
       "      <th>D</th>\n",
       "      <th>E</th>\n",
       "    </tr>\n",
       "  </thead>\n",
       "  <tbody>\n",
       "    <tr>\n",
       "      <th>0</th>\n",
       "      <td>44</td>\n",
       "      <td>64</td>\n",
       "      <td>88</td>\n",
       "      <td>70</td>\n",
       "      <td>8</td>\n",
       "    </tr>\n",
       "    <tr>\n",
       "      <th>1</th>\n",
       "      <td>87</td>\n",
       "      <td>0</td>\n",
       "      <td>7</td>\n",
       "      <td>87</td>\n",
       "      <td>62</td>\n",
       "    </tr>\n",
       "    <tr>\n",
       "      <th>2</th>\n",
       "      <td>10</td>\n",
       "      <td>80</td>\n",
       "      <td>7</td>\n",
       "      <td>34</td>\n",
       "      <td>34</td>\n",
       "    </tr>\n",
       "    <tr>\n",
       "      <th>3</th>\n",
       "      <td>32</td>\n",
       "      <td>4</td>\n",
       "      <td>40</td>\n",
       "      <td>27</td>\n",
       "      <td>6</td>\n",
       "    </tr>\n",
       "    <tr>\n",
       "      <th>4</th>\n",
       "      <td>72</td>\n",
       "      <td>71</td>\n",
       "      <td>11</td>\n",
       "      <td>33</td>\n",
       "      <td>32</td>\n",
       "    </tr>\n",
       "    <tr>\n",
       "      <th>...</th>\n",
       "      <td>...</td>\n",
       "      <td>...</td>\n",
       "      <td>...</td>\n",
       "      <td>...</td>\n",
       "      <td>...</td>\n",
       "    </tr>\n",
       "    <tr>\n",
       "      <th>95</th>\n",
       "      <td>57</td>\n",
       "      <td>74</td>\n",
       "      <td>28</td>\n",
       "      <td>35</td>\n",
       "      <td>88</td>\n",
       "    </tr>\n",
       "    <tr>\n",
       "      <th>96</th>\n",
       "      <td>20</td>\n",
       "      <td>35</td>\n",
       "      <td>9</td>\n",
       "      <td>72</td>\n",
       "      <td>23</td>\n",
       "    </tr>\n",
       "    <tr>\n",
       "      <th>97</th>\n",
       "      <td>63</td>\n",
       "      <td>98</td>\n",
       "      <td>48</td>\n",
       "      <td>98</td>\n",
       "      <td>35</td>\n",
       "    </tr>\n",
       "    <tr>\n",
       "      <th>98</th>\n",
       "      <td>81</td>\n",
       "      <td>95</td>\n",
       "      <td>23</td>\n",
       "      <td>22</td>\n",
       "      <td>61</td>\n",
       "    </tr>\n",
       "    <tr>\n",
       "      <th>99</th>\n",
       "      <td>95</td>\n",
       "      <td>36</td>\n",
       "      <td>11</td>\n",
       "      <td>54</td>\n",
       "      <td>12</td>\n",
       "    </tr>\n",
       "  </tbody>\n",
       "</table>\n",
       "<p>100 rows × 5 columns</p>\n",
       "</div>"
      ],
      "text/plain": [
       "     A   B   C   D   E\n",
       "0   44  64  88  70   8\n",
       "1   87   0   7  87  62\n",
       "2   10  80   7  34  34\n",
       "3   32   4  40  27   6\n",
       "4   72  71  11  33  32\n",
       "..  ..  ..  ..  ..  ..\n",
       "95  57  74  28  35  88\n",
       "96  20  35   9  72  23\n",
       "97  63  98  48  98  35\n",
       "98  81  95  23  22  61\n",
       "99  95  36  11  54  12\n",
       "\n",
       "[100 rows x 5 columns]"
      ]
     },
     "execution_count": 25,
     "metadata": {},
     "output_type": "execute_result"
    }
   ],
   "source": [
    "df"
   ]
  },
  {
   "cell_type": "code",
   "execution_count": 26,
   "metadata": {},
   "outputs": [
    {
     "data": {
      "text/plain": [
       "A    87\n",
       "B     0\n",
       "C     7\n",
       "D    87\n",
       "E    62\n",
       "Name: 1, dtype: int32"
      ]
     },
     "execution_count": 26,
     "metadata": {},
     "output_type": "execute_result"
    }
   ],
   "source": [
    "# .loc indekslerin isimlerine göre seçim yapar\n",
    "df.loc[1]"
   ]
  },
  {
   "cell_type": "code",
   "execution_count": 27,
   "metadata": {},
   "outputs": [
    {
     "data": {
      "text/plain": [
       "A    81\n",
       "B    95\n",
       "C    23\n",
       "D    22\n",
       "E    61\n",
       "Name: 98, dtype: int32"
      ]
     },
     "execution_count": 27,
     "metadata": {},
     "output_type": "execute_result"
    }
   ],
   "source": [
    "# .iloc indekslerin sırasına göre seçim yapar\n",
    "df.iloc[-2]"
   ]
  },
  {
   "cell_type": "markdown",
   "metadata": {},
   "source": [
    "### Operations"
   ]
  },
  {
   "cell_type": "code",
   "execution_count": 28,
   "metadata": {},
   "outputs": [
    {
     "data": {
      "text/html": [
       "<div>\n",
       "<style scoped>\n",
       "    .dataframe tbody tr th:only-of-type {\n",
       "        vertical-align: middle;\n",
       "    }\n",
       "\n",
       "    .dataframe tbody tr th {\n",
       "        vertical-align: top;\n",
       "    }\n",
       "\n",
       "    .dataframe thead th {\n",
       "        text-align: right;\n",
       "    }\n",
       "</style>\n",
       "<table border=\"1\" class=\"dataframe\">\n",
       "  <thead>\n",
       "    <tr style=\"text-align: right;\">\n",
       "      <th></th>\n",
       "      <th>A</th>\n",
       "      <th>B</th>\n",
       "      <th>C</th>\n",
       "      <th>D</th>\n",
       "      <th>E</th>\n",
       "      <th>F</th>\n",
       "    </tr>\n",
       "  </thead>\n",
       "  <tbody>\n",
       "    <tr>\n",
       "      <th>0</th>\n",
       "      <td>44</td>\n",
       "      <td>64</td>\n",
       "      <td>88</td>\n",
       "      <td>70</td>\n",
       "      <td>8</td>\n",
       "      <td>158</td>\n",
       "    </tr>\n",
       "    <tr>\n",
       "      <th>1</th>\n",
       "      <td>87</td>\n",
       "      <td>0</td>\n",
       "      <td>7</td>\n",
       "      <td>87</td>\n",
       "      <td>62</td>\n",
       "      <td>94</td>\n",
       "    </tr>\n",
       "    <tr>\n",
       "      <th>2</th>\n",
       "      <td>10</td>\n",
       "      <td>80</td>\n",
       "      <td>7</td>\n",
       "      <td>34</td>\n",
       "      <td>34</td>\n",
       "      <td>41</td>\n",
       "    </tr>\n",
       "    <tr>\n",
       "      <th>3</th>\n",
       "      <td>32</td>\n",
       "      <td>4</td>\n",
       "      <td>40</td>\n",
       "      <td>27</td>\n",
       "      <td>6</td>\n",
       "      <td>67</td>\n",
       "    </tr>\n",
       "    <tr>\n",
       "      <th>4</th>\n",
       "      <td>72</td>\n",
       "      <td>71</td>\n",
       "      <td>11</td>\n",
       "      <td>33</td>\n",
       "      <td>32</td>\n",
       "      <td>44</td>\n",
       "    </tr>\n",
       "    <tr>\n",
       "      <th>...</th>\n",
       "      <td>...</td>\n",
       "      <td>...</td>\n",
       "      <td>...</td>\n",
       "      <td>...</td>\n",
       "      <td>...</td>\n",
       "      <td>...</td>\n",
       "    </tr>\n",
       "    <tr>\n",
       "      <th>95</th>\n",
       "      <td>57</td>\n",
       "      <td>74</td>\n",
       "      <td>28</td>\n",
       "      <td>35</td>\n",
       "      <td>88</td>\n",
       "      <td>63</td>\n",
       "    </tr>\n",
       "    <tr>\n",
       "      <th>96</th>\n",
       "      <td>20</td>\n",
       "      <td>35</td>\n",
       "      <td>9</td>\n",
       "      <td>72</td>\n",
       "      <td>23</td>\n",
       "      <td>81</td>\n",
       "    </tr>\n",
       "    <tr>\n",
       "      <th>97</th>\n",
       "      <td>63</td>\n",
       "      <td>98</td>\n",
       "      <td>48</td>\n",
       "      <td>98</td>\n",
       "      <td>35</td>\n",
       "      <td>146</td>\n",
       "    </tr>\n",
       "    <tr>\n",
       "      <th>98</th>\n",
       "      <td>81</td>\n",
       "      <td>95</td>\n",
       "      <td>23</td>\n",
       "      <td>22</td>\n",
       "      <td>61</td>\n",
       "      <td>45</td>\n",
       "    </tr>\n",
       "    <tr>\n",
       "      <th>99</th>\n",
       "      <td>95</td>\n",
       "      <td>36</td>\n",
       "      <td>11</td>\n",
       "      <td>54</td>\n",
       "      <td>12</td>\n",
       "      <td>65</td>\n",
       "    </tr>\n",
       "  </tbody>\n",
       "</table>\n",
       "<p>100 rows × 6 columns</p>\n",
       "</div>"
      ],
      "text/plain": [
       "     A   B   C   D   E    F\n",
       "0   44  64  88  70   8  158\n",
       "1   87   0   7  87  62   94\n",
       "2   10  80   7  34  34   41\n",
       "3   32   4  40  27   6   67\n",
       "4   72  71  11  33  32   44\n",
       "..  ..  ..  ..  ..  ..  ...\n",
       "95  57  74  28  35  88   63\n",
       "96  20  35   9  72  23   81\n",
       "97  63  98  48  98  35  146\n",
       "98  81  95  23  22  61   45\n",
       "99  95  36  11  54  12   65\n",
       "\n",
       "[100 rows x 6 columns]"
      ]
     },
     "execution_count": 28,
     "metadata": {},
     "output_type": "execute_result"
    }
   ],
   "source": [
    "df['F'] = df['C'] + df['D']\n",
    "\n",
    "df"
   ]
  },
  {
   "cell_type": "code",
   "execution_count": 29,
   "metadata": {},
   "outputs": [
    {
     "data": {
      "text/plain": [
       "0       158\n",
       "1       252\n",
       "2       293\n",
       "3       360\n",
       "4       404\n",
       "      ...  \n",
       "95     9728\n",
       "96     9809\n",
       "97     9955\n",
       "98    10000\n",
       "99    10065\n",
       "Name: F, Length: 100, dtype: int32"
      ]
     },
     "execution_count": 29,
     "metadata": {},
     "output_type": "execute_result"
    }
   ],
   "source": [
    "df['F'].cumsum()"
   ]
  },
  {
   "cell_type": "markdown",
   "metadata": {},
   "source": [
    "```DataFrame.itertuples()```"
   ]
  },
  {
   "cell_type": "code",
   "execution_count": 30,
   "metadata": {},
   "outputs": [
    {
     "name": "stdout",
     "output_type": "stream",
     "text": [
      "44\n",
      "87\n",
      "10\n",
      "32\n",
      "72\n",
      "47\n",
      "98\n",
      "64\n",
      "0\n",
      "8\n",
      "76\n",
      "95\n",
      "42\n",
      "70\n",
      "41\n",
      "27\n",
      "61\n",
      "96\n",
      "2\n",
      "61\n",
      "23\n",
      "87\n",
      "11\n",
      "80\n",
      "53\n",
      "18\n",
      "31\n",
      "74\n",
      "68\n",
      "15\n",
      "79\n",
      "35\n",
      "19\n",
      "39\n",
      "91\n",
      "30\n",
      "15\n",
      "47\n",
      "8\n",
      "2\n",
      "23\n",
      "83\n",
      "92\n",
      "34\n",
      "32\n",
      "47\n",
      "16\n",
      "85\n",
      "53\n",
      "20\n",
      "96\n",
      "3\n",
      "43\n",
      "5\n",
      "45\n",
      "96\n",
      "32\n",
      "53\n",
      "31\n",
      "26\n",
      "8\n",
      "41\n",
      "23\n",
      "35\n",
      "15\n",
      "91\n",
      "62\n",
      "62\n",
      "85\n",
      "14\n",
      "52\n",
      "95\n",
      "39\n",
      "18\n",
      "57\n",
      "22\n",
      "0\n",
      "0\n",
      "68\n",
      "25\n",
      "28\n",
      "93\n",
      "89\n",
      "99\n",
      "68\n",
      "9\n",
      "68\n",
      "1\n",
      "23\n",
      "32\n",
      "66\n",
      "42\n",
      "94\n",
      "80\n",
      "73\n",
      "57\n",
      "20\n",
      "63\n",
      "81\n",
      "95\n"
     ]
    }
   ],
   "source": [
    "# DataFrame üzeirnde iterasyon yapmamızı sağlayan metoddur. \n",
    "# Zorunda kalmadıkça yapmanızı önermediğimiz bir yöntemdir. \n",
    "# Eğer yapabiliyorsanız, vektörel işlemler kullanmanızı öneririz. \n",
    "for row in df.itertuples():\n",
    "    print(row.A)"
   ]
  },
  {
   "cell_type": "markdown",
   "metadata": {},
   "source": [
    "### Adding and Removing columns\n",
    "\n",
    "``DataFrame.drop()``"
   ]
  },
  {
   "cell_type": "code",
   "execution_count": 31,
   "metadata": {},
   "outputs": [
    {
     "data": {
      "text/html": [
       "<div>\n",
       "<style scoped>\n",
       "    .dataframe tbody tr th:only-of-type {\n",
       "        vertical-align: middle;\n",
       "    }\n",
       "\n",
       "    .dataframe tbody tr th {\n",
       "        vertical-align: top;\n",
       "    }\n",
       "\n",
       "    .dataframe thead th {\n",
       "        text-align: right;\n",
       "    }\n",
       "</style>\n",
       "<table border=\"1\" class=\"dataframe\">\n",
       "  <thead>\n",
       "    <tr style=\"text-align: right;\">\n",
       "      <th></th>\n",
       "      <th>A</th>\n",
       "      <th>B</th>\n",
       "      <th>C</th>\n",
       "      <th>D</th>\n",
       "      <th>E</th>\n",
       "      <th>F</th>\n",
       "    </tr>\n",
       "  </thead>\n",
       "  <tbody>\n",
       "    <tr>\n",
       "      <th>0</th>\n",
       "      <td>44</td>\n",
       "      <td>64</td>\n",
       "      <td>88</td>\n",
       "      <td>70</td>\n",
       "      <td>8</td>\n",
       "      <td>158</td>\n",
       "    </tr>\n",
       "    <tr>\n",
       "      <th>1</th>\n",
       "      <td>87</td>\n",
       "      <td>0</td>\n",
       "      <td>7</td>\n",
       "      <td>87</td>\n",
       "      <td>62</td>\n",
       "      <td>94</td>\n",
       "    </tr>\n",
       "    <tr>\n",
       "      <th>2</th>\n",
       "      <td>10</td>\n",
       "      <td>80</td>\n",
       "      <td>7</td>\n",
       "      <td>34</td>\n",
       "      <td>34</td>\n",
       "      <td>41</td>\n",
       "    </tr>\n",
       "    <tr>\n",
       "      <th>3</th>\n",
       "      <td>32</td>\n",
       "      <td>4</td>\n",
       "      <td>40</td>\n",
       "      <td>27</td>\n",
       "      <td>6</td>\n",
       "      <td>67</td>\n",
       "    </tr>\n",
       "    <tr>\n",
       "      <th>4</th>\n",
       "      <td>72</td>\n",
       "      <td>71</td>\n",
       "      <td>11</td>\n",
       "      <td>33</td>\n",
       "      <td>32</td>\n",
       "      <td>44</td>\n",
       "    </tr>\n",
       "    <tr>\n",
       "      <th>...</th>\n",
       "      <td>...</td>\n",
       "      <td>...</td>\n",
       "      <td>...</td>\n",
       "      <td>...</td>\n",
       "      <td>...</td>\n",
       "      <td>...</td>\n",
       "    </tr>\n",
       "    <tr>\n",
       "      <th>95</th>\n",
       "      <td>57</td>\n",
       "      <td>74</td>\n",
       "      <td>28</td>\n",
       "      <td>35</td>\n",
       "      <td>88</td>\n",
       "      <td>63</td>\n",
       "    </tr>\n",
       "    <tr>\n",
       "      <th>96</th>\n",
       "      <td>20</td>\n",
       "      <td>35</td>\n",
       "      <td>9</td>\n",
       "      <td>72</td>\n",
       "      <td>23</td>\n",
       "      <td>81</td>\n",
       "    </tr>\n",
       "    <tr>\n",
       "      <th>97</th>\n",
       "      <td>63</td>\n",
       "      <td>98</td>\n",
       "      <td>48</td>\n",
       "      <td>98</td>\n",
       "      <td>35</td>\n",
       "      <td>146</td>\n",
       "    </tr>\n",
       "    <tr>\n",
       "      <th>98</th>\n",
       "      <td>81</td>\n",
       "      <td>95</td>\n",
       "      <td>23</td>\n",
       "      <td>22</td>\n",
       "      <td>61</td>\n",
       "      <td>45</td>\n",
       "    </tr>\n",
       "    <tr>\n",
       "      <th>99</th>\n",
       "      <td>95</td>\n",
       "      <td>36</td>\n",
       "      <td>11</td>\n",
       "      <td>54</td>\n",
       "      <td>12</td>\n",
       "      <td>65</td>\n",
       "    </tr>\n",
       "  </tbody>\n",
       "</table>\n",
       "<p>100 rows × 6 columns</p>\n",
       "</div>"
      ],
      "text/plain": [
       "     A   B   C   D   E    F\n",
       "0   44  64  88  70   8  158\n",
       "1   87   0   7  87  62   94\n",
       "2   10  80   7  34  34   41\n",
       "3   32   4  40  27   6   67\n",
       "4   72  71  11  33  32   44\n",
       "..  ..  ..  ..  ..  ..  ...\n",
       "95  57  74  28  35  88   63\n",
       "96  20  35   9  72  23   81\n",
       "97  63  98  48  98  35  146\n",
       "98  81  95  23  22  61   45\n",
       "99  95  36  11  54  12   65\n",
       "\n",
       "[100 rows x 6 columns]"
      ]
     },
     "execution_count": 31,
     "metadata": {},
     "output_type": "execute_result"
    }
   ],
   "source": [
    "df"
   ]
  },
  {
   "cell_type": "code",
   "execution_count": 32,
   "metadata": {},
   "outputs": [
    {
     "data": {
      "text/html": [
       "<div>\n",
       "<style scoped>\n",
       "    .dataframe tbody tr th:only-of-type {\n",
       "        vertical-align: middle;\n",
       "    }\n",
       "\n",
       "    .dataframe tbody tr th {\n",
       "        vertical-align: top;\n",
       "    }\n",
       "\n",
       "    .dataframe thead th {\n",
       "        text-align: right;\n",
       "    }\n",
       "</style>\n",
       "<table border=\"1\" class=\"dataframe\">\n",
       "  <thead>\n",
       "    <tr style=\"text-align: right;\">\n",
       "      <th></th>\n",
       "      <th>A</th>\n",
       "      <th>B</th>\n",
       "      <th>C</th>\n",
       "      <th>E</th>\n",
       "      <th>F</th>\n",
       "    </tr>\n",
       "  </thead>\n",
       "  <tbody>\n",
       "    <tr>\n",
       "      <th>0</th>\n",
       "      <td>44</td>\n",
       "      <td>64</td>\n",
       "      <td>88</td>\n",
       "      <td>8</td>\n",
       "      <td>158</td>\n",
       "    </tr>\n",
       "    <tr>\n",
       "      <th>1</th>\n",
       "      <td>87</td>\n",
       "      <td>0</td>\n",
       "      <td>7</td>\n",
       "      <td>62</td>\n",
       "      <td>94</td>\n",
       "    </tr>\n",
       "    <tr>\n",
       "      <th>2</th>\n",
       "      <td>10</td>\n",
       "      <td>80</td>\n",
       "      <td>7</td>\n",
       "      <td>34</td>\n",
       "      <td>41</td>\n",
       "    </tr>\n",
       "    <tr>\n",
       "      <th>3</th>\n",
       "      <td>32</td>\n",
       "      <td>4</td>\n",
       "      <td>40</td>\n",
       "      <td>6</td>\n",
       "      <td>67</td>\n",
       "    </tr>\n",
       "    <tr>\n",
       "      <th>4</th>\n",
       "      <td>72</td>\n",
       "      <td>71</td>\n",
       "      <td>11</td>\n",
       "      <td>32</td>\n",
       "      <td>44</td>\n",
       "    </tr>\n",
       "    <tr>\n",
       "      <th>...</th>\n",
       "      <td>...</td>\n",
       "      <td>...</td>\n",
       "      <td>...</td>\n",
       "      <td>...</td>\n",
       "      <td>...</td>\n",
       "    </tr>\n",
       "    <tr>\n",
       "      <th>95</th>\n",
       "      <td>57</td>\n",
       "      <td>74</td>\n",
       "      <td>28</td>\n",
       "      <td>88</td>\n",
       "      <td>63</td>\n",
       "    </tr>\n",
       "    <tr>\n",
       "      <th>96</th>\n",
       "      <td>20</td>\n",
       "      <td>35</td>\n",
       "      <td>9</td>\n",
       "      <td>23</td>\n",
       "      <td>81</td>\n",
       "    </tr>\n",
       "    <tr>\n",
       "      <th>97</th>\n",
       "      <td>63</td>\n",
       "      <td>98</td>\n",
       "      <td>48</td>\n",
       "      <td>35</td>\n",
       "      <td>146</td>\n",
       "    </tr>\n",
       "    <tr>\n",
       "      <th>98</th>\n",
       "      <td>81</td>\n",
       "      <td>95</td>\n",
       "      <td>23</td>\n",
       "      <td>61</td>\n",
       "      <td>45</td>\n",
       "    </tr>\n",
       "    <tr>\n",
       "      <th>99</th>\n",
       "      <td>95</td>\n",
       "      <td>36</td>\n",
       "      <td>11</td>\n",
       "      <td>12</td>\n",
       "      <td>65</td>\n",
       "    </tr>\n",
       "  </tbody>\n",
       "</table>\n",
       "<p>100 rows × 5 columns</p>\n",
       "</div>"
      ],
      "text/plain": [
       "     A   B   C   E    F\n",
       "0   44  64  88   8  158\n",
       "1   87   0   7  62   94\n",
       "2   10  80   7  34   41\n",
       "3   32   4  40   6   67\n",
       "4   72  71  11  32   44\n",
       "..  ..  ..  ..  ..  ...\n",
       "95  57  74  28  88   63\n",
       "96  20  35   9  23   81\n",
       "97  63  98  48  35  146\n",
       "98  81  95  23  61   45\n",
       "99  95  36  11  12   65\n",
       "\n",
       "[100 rows x 5 columns]"
      ]
     },
     "execution_count": 32,
     "metadata": {},
     "output_type": "execute_result"
    }
   ],
   "source": [
    "# Burada önemli bir parametre olan axis parametresini görüyoruz.\n",
    "# Bu parametre ile satırlar üzerinde veya sütunlar üzerinde işlem yapabiliriz.\n",
    "# axis=0 satırlar üzerinde işlem yapar\n",
    "# axis=1 sütunlar üzerinde işlem yapar\n",
    "\n",
    "# Örneğin burada sütunların üzerinde işlem yapıyoruz ve D sütununu siliyoruz.\n",
    "df.drop('D', axis=1)"
   ]
  },
  {
   "cell_type": "markdown",
   "metadata": {},
   "source": [
    "### Describe\n",
    "\n",
    "```DataFrame.describe()```\n",
    "```DataFrame.info()```\n",
    "```DataFrame.value_counts()```\n",
    "```DataFrame.nunique()```\n",
    "\n",
    "```pd.notna(Dataframe)```"
   ]
  },
  {
   "cell_type": "code",
   "execution_count": 33,
   "metadata": {},
   "outputs": [
    {
     "data": {
      "text/html": [
       "<div>\n",
       "<style scoped>\n",
       "    .dataframe tbody tr th:only-of-type {\n",
       "        vertical-align: middle;\n",
       "    }\n",
       "\n",
       "    .dataframe tbody tr th {\n",
       "        vertical-align: top;\n",
       "    }\n",
       "\n",
       "    .dataframe thead th {\n",
       "        text-align: right;\n",
       "    }\n",
       "</style>\n",
       "<table border=\"1\" class=\"dataframe\">\n",
       "  <thead>\n",
       "    <tr style=\"text-align: right;\">\n",
       "      <th></th>\n",
       "      <th>column1</th>\n",
       "      <th>column2</th>\n",
       "      <th>column3</th>\n",
       "    </tr>\n",
       "  </thead>\n",
       "  <tbody>\n",
       "    <tr>\n",
       "      <th>0</th>\n",
       "      <td>A</td>\n",
       "      <td>2.0</td>\n",
       "      <td>Yunus</td>\n",
       "    </tr>\n",
       "    <tr>\n",
       "      <th>1</th>\n",
       "      <td>A</td>\n",
       "      <td>2.3</td>\n",
       "      <td>Çağan</td>\n",
       "    </tr>\n",
       "    <tr>\n",
       "      <th>2</th>\n",
       "      <td>NaN</td>\n",
       "      <td>5.8</td>\n",
       "      <td>Beril</td>\n",
       "    </tr>\n",
       "    <tr>\n",
       "      <th>3</th>\n",
       "      <td>C</td>\n",
       "      <td>-2.0</td>\n",
       "      <td>Alper</td>\n",
       "    </tr>\n",
       "  </tbody>\n",
       "</table>\n",
       "</div>"
      ],
      "text/plain": [
       "  column1  column2 column3\n",
       "0       A      2.0   Yunus\n",
       "1       A      2.3   Çağan\n",
       "2     NaN      5.8   Beril\n",
       "3       C     -2.0   Alper"
      ]
     },
     "execution_count": 33,
     "metadata": {},
     "output_type": "execute_result"
    }
   ],
   "source": [
    "dict1 = {'column1': ['A', 'A', np.nan, 'C'],\n",
    "         'column2': [2, 2.3, 5.8, -2],\n",
    "         'column3': ['Yunus', 'Çağan', 'Beril', 'Alper']}\n",
    "\n",
    "# Mesela bir DataFrame'i Python sözlükleri ile oluşturmak için şu şekilde bir kod yazabiliriz:\n",
    "df2 = pd.DataFrame(dict1)\n",
    "df2"
   ]
  },
  {
   "cell_type": "code",
   "execution_count": 34,
   "metadata": {},
   "outputs": [
    {
     "name": "stdout",
     "output_type": "stream",
     "text": [
      "<class 'pandas.core.frame.DataFrame'>\n",
      "RangeIndex: 4 entries, 0 to 3\n",
      "Data columns (total 3 columns):\n",
      " #   Column   Non-Null Count  Dtype  \n",
      "---  ------   --------------  -----  \n",
      " 0   column1  3 non-null      object \n",
      " 1   column2  4 non-null      float64\n",
      " 2   column3  4 non-null      object \n",
      "dtypes: float64(1), object(2)\n",
      "memory usage: 224.0+ bytes\n"
     ]
    }
   ],
   "source": [
    "# DataFrame.info() metodu ile DataFrame'imizin içerisindeki verilerin türlerini, eksik değerlerin olup olmadığını,\n",
    "# ve DataFrame'in boyutlarını görebiliriz.\n",
    "df2.info()"
   ]
  },
  {
   "cell_type": "code",
   "execution_count": 35,
   "metadata": {},
   "outputs": [
    {
     "data": {
      "text/plain": [
       "A    False\n",
       "B     True\n",
       "C     True\n",
       "D    False\n",
       "E    False\n",
       "F     True\n",
       "dtype: bool"
      ]
     },
     "execution_count": 35,
     "metadata": {},
     "output_type": "execute_result"
    }
   ],
   "source": [
    "df.mean() > 50"
   ]
  },
  {
   "cell_type": "code",
   "execution_count": 36,
   "metadata": {},
   "outputs": [
    {
     "data": {
      "text/plain": [
       "0     158\n",
       "1      94\n",
       "2      80\n",
       "3      67\n",
       "4      71\n",
       "     ... \n",
       "95     74\n",
       "96     81\n",
       "97    146\n",
       "98     95\n",
       "99     65\n",
       "Length: 100, dtype: int32"
      ]
     },
     "execution_count": 36,
     "metadata": {},
     "output_type": "execute_result"
    }
   ],
   "source": [
    "# Burada yine karşımıza önemli bir opraatör çıkıyor. (:) operatörü.\n",
    "# Bu operatör ile DataFrame'in içerisindeki verileri seçebiliriz.\n",
    "# Örneğin burada df DataFrame'inin içerisindeki tüm satırları seçiyoruz.\n",
    "# Çünkü satırlar için hiçbir şey belirtmedik ve hepsini işleme dahil etmek istiyoruz.\n",
    "# Sütunlar için ise df.mean() > 50 ifadesi ile sütunların ortalamalarını hesapladık ve 50'den büyük olanları seçtik.\n",
    "\n",
    "df.loc[:, df.mean() > 50].max(axis=1)"
   ]
  },
  {
   "cell_type": "code",
   "execution_count": 37,
   "metadata": {},
   "outputs": [
    {
     "data": {
      "text/plain": [
       "array([[0],\n",
       "       [2],\n",
       "       [4],\n",
       "       [3],\n",
       "       [4]])"
      ]
     },
     "execution_count": 37,
     "metadata": {},
     "output_type": "execute_result"
    }
   ],
   "source": [
    "# Burada (:) operatörü ile yine tüm satırları seçiyoruz.\n",
    "# fakat sütunların yalnızca bir kısmını seçiyoruz.\n",
    "np.random.randint(0, 5, (5, 5))[:, 3:4]"
   ]
  },
  {
   "cell_type": "markdown",
   "metadata": {},
   "source": [
    "### Write and Read\n",
    "\n",
    "``DataFrame.to_csv(file_path)``\n",
    "``pd.read_csv(file_path)``"
   ]
  },
  {
   "cell_type": "code",
   "execution_count": 38,
   "metadata": {},
   "outputs": [
    {
     "data": {
      "text/html": [
       "<div>\n",
       "<style scoped>\n",
       "    .dataframe tbody tr th:only-of-type {\n",
       "        vertical-align: middle;\n",
       "    }\n",
       "\n",
       "    .dataframe tbody tr th {\n",
       "        vertical-align: top;\n",
       "    }\n",
       "\n",
       "    .dataframe thead th {\n",
       "        text-align: right;\n",
       "    }\n",
       "</style>\n",
       "<table border=\"1\" class=\"dataframe\">\n",
       "  <thead>\n",
       "    <tr style=\"text-align: right;\">\n",
       "      <th></th>\n",
       "      <th>A</th>\n",
       "      <th>B</th>\n",
       "      <th>C</th>\n",
       "      <th>D</th>\n",
       "      <th>E</th>\n",
       "      <th>F</th>\n",
       "    </tr>\n",
       "  </thead>\n",
       "  <tbody>\n",
       "    <tr>\n",
       "      <th>0</th>\n",
       "      <td>44</td>\n",
       "      <td>64</td>\n",
       "      <td>88</td>\n",
       "      <td>70</td>\n",
       "      <td>8</td>\n",
       "      <td>158</td>\n",
       "    </tr>\n",
       "    <tr>\n",
       "      <th>1</th>\n",
       "      <td>87</td>\n",
       "      <td>0</td>\n",
       "      <td>7</td>\n",
       "      <td>87</td>\n",
       "      <td>62</td>\n",
       "      <td>94</td>\n",
       "    </tr>\n",
       "    <tr>\n",
       "      <th>2</th>\n",
       "      <td>10</td>\n",
       "      <td>80</td>\n",
       "      <td>7</td>\n",
       "      <td>34</td>\n",
       "      <td>34</td>\n",
       "      <td>41</td>\n",
       "    </tr>\n",
       "    <tr>\n",
       "      <th>3</th>\n",
       "      <td>32</td>\n",
       "      <td>4</td>\n",
       "      <td>40</td>\n",
       "      <td>27</td>\n",
       "      <td>6</td>\n",
       "      <td>67</td>\n",
       "    </tr>\n",
       "    <tr>\n",
       "      <th>4</th>\n",
       "      <td>72</td>\n",
       "      <td>71</td>\n",
       "      <td>11</td>\n",
       "      <td>33</td>\n",
       "      <td>32</td>\n",
       "      <td>44</td>\n",
       "    </tr>\n",
       "    <tr>\n",
       "      <th>...</th>\n",
       "      <td>...</td>\n",
       "      <td>...</td>\n",
       "      <td>...</td>\n",
       "      <td>...</td>\n",
       "      <td>...</td>\n",
       "      <td>...</td>\n",
       "    </tr>\n",
       "    <tr>\n",
       "      <th>95</th>\n",
       "      <td>57</td>\n",
       "      <td>74</td>\n",
       "      <td>28</td>\n",
       "      <td>35</td>\n",
       "      <td>88</td>\n",
       "      <td>63</td>\n",
       "    </tr>\n",
       "    <tr>\n",
       "      <th>96</th>\n",
       "      <td>20</td>\n",
       "      <td>35</td>\n",
       "      <td>9</td>\n",
       "      <td>72</td>\n",
       "      <td>23</td>\n",
       "      <td>81</td>\n",
       "    </tr>\n",
       "    <tr>\n",
       "      <th>97</th>\n",
       "      <td>63</td>\n",
       "      <td>98</td>\n",
       "      <td>48</td>\n",
       "      <td>98</td>\n",
       "      <td>35</td>\n",
       "      <td>146</td>\n",
       "    </tr>\n",
       "    <tr>\n",
       "      <th>98</th>\n",
       "      <td>81</td>\n",
       "      <td>95</td>\n",
       "      <td>23</td>\n",
       "      <td>22</td>\n",
       "      <td>61</td>\n",
       "      <td>45</td>\n",
       "    </tr>\n",
       "    <tr>\n",
       "      <th>99</th>\n",
       "      <td>95</td>\n",
       "      <td>36</td>\n",
       "      <td>11</td>\n",
       "      <td>54</td>\n",
       "      <td>12</td>\n",
       "      <td>65</td>\n",
       "    </tr>\n",
       "  </tbody>\n",
       "</table>\n",
       "<p>100 rows × 6 columns</p>\n",
       "</div>"
      ],
      "text/plain": [
       "     A   B   C   D   E    F\n",
       "0   44  64  88  70   8  158\n",
       "1   87   0   7  87  62   94\n",
       "2   10  80   7  34  34   41\n",
       "3   32   4  40  27   6   67\n",
       "4   72  71  11  33  32   44\n",
       "..  ..  ..  ..  ..  ..  ...\n",
       "95  57  74  28  35  88   63\n",
       "96  20  35   9  72  23   81\n",
       "97  63  98  48  98  35  146\n",
       "98  81  95  23  22  61   45\n",
       "99  95  36  11  54  12   65\n",
       "\n",
       "[100 rows x 6 columns]"
      ]
     },
     "execution_count": 38,
     "metadata": {},
     "output_type": "execute_result"
    }
   ],
   "source": [
    "df"
   ]
  },
  {
   "cell_type": "code",
   "execution_count": 39,
   "metadata": {},
   "outputs": [],
   "source": [
    "# DataFrame'in içerisindeki verileri CSV dosyasına yazmak için şu şekilde bir kod yazabiliriz:\n",
    "df.to_csv('deneme.csv', index=False)"
   ]
  },
  {
   "cell_type": "code",
   "execution_count": 40,
   "metadata": {},
   "outputs": [
    {
     "data": {
      "text/html": [
       "<div>\n",
       "<style scoped>\n",
       "    .dataframe tbody tr th:only-of-type {\n",
       "        vertical-align: middle;\n",
       "    }\n",
       "\n",
       "    .dataframe tbody tr th {\n",
       "        vertical-align: top;\n",
       "    }\n",
       "\n",
       "    .dataframe thead th {\n",
       "        text-align: right;\n",
       "    }\n",
       "</style>\n",
       "<table border=\"1\" class=\"dataframe\">\n",
       "  <thead>\n",
       "    <tr style=\"text-align: right;\">\n",
       "      <th></th>\n",
       "      <th>A</th>\n",
       "      <th>B</th>\n",
       "      <th>C</th>\n",
       "      <th>D</th>\n",
       "      <th>E</th>\n",
       "      <th>F</th>\n",
       "    </tr>\n",
       "  </thead>\n",
       "  <tbody>\n",
       "    <tr>\n",
       "      <th>0</th>\n",
       "      <td>44</td>\n",
       "      <td>64</td>\n",
       "      <td>88</td>\n",
       "      <td>70</td>\n",
       "      <td>8</td>\n",
       "      <td>158</td>\n",
       "    </tr>\n",
       "    <tr>\n",
       "      <th>1</th>\n",
       "      <td>87</td>\n",
       "      <td>0</td>\n",
       "      <td>7</td>\n",
       "      <td>87</td>\n",
       "      <td>62</td>\n",
       "      <td>94</td>\n",
       "    </tr>\n",
       "    <tr>\n",
       "      <th>2</th>\n",
       "      <td>10</td>\n",
       "      <td>80</td>\n",
       "      <td>7</td>\n",
       "      <td>34</td>\n",
       "      <td>34</td>\n",
       "      <td>41</td>\n",
       "    </tr>\n",
       "    <tr>\n",
       "      <th>3</th>\n",
       "      <td>32</td>\n",
       "      <td>4</td>\n",
       "      <td>40</td>\n",
       "      <td>27</td>\n",
       "      <td>6</td>\n",
       "      <td>67</td>\n",
       "    </tr>\n",
       "    <tr>\n",
       "      <th>4</th>\n",
       "      <td>72</td>\n",
       "      <td>71</td>\n",
       "      <td>11</td>\n",
       "      <td>33</td>\n",
       "      <td>32</td>\n",
       "      <td>44</td>\n",
       "    </tr>\n",
       "    <tr>\n",
       "      <th>...</th>\n",
       "      <td>...</td>\n",
       "      <td>...</td>\n",
       "      <td>...</td>\n",
       "      <td>...</td>\n",
       "      <td>...</td>\n",
       "      <td>...</td>\n",
       "    </tr>\n",
       "    <tr>\n",
       "      <th>95</th>\n",
       "      <td>57</td>\n",
       "      <td>74</td>\n",
       "      <td>28</td>\n",
       "      <td>35</td>\n",
       "      <td>88</td>\n",
       "      <td>63</td>\n",
       "    </tr>\n",
       "    <tr>\n",
       "      <th>96</th>\n",
       "      <td>20</td>\n",
       "      <td>35</td>\n",
       "      <td>9</td>\n",
       "      <td>72</td>\n",
       "      <td>23</td>\n",
       "      <td>81</td>\n",
       "    </tr>\n",
       "    <tr>\n",
       "      <th>97</th>\n",
       "      <td>63</td>\n",
       "      <td>98</td>\n",
       "      <td>48</td>\n",
       "      <td>98</td>\n",
       "      <td>35</td>\n",
       "      <td>146</td>\n",
       "    </tr>\n",
       "    <tr>\n",
       "      <th>98</th>\n",
       "      <td>81</td>\n",
       "      <td>95</td>\n",
       "      <td>23</td>\n",
       "      <td>22</td>\n",
       "      <td>61</td>\n",
       "      <td>45</td>\n",
       "    </tr>\n",
       "    <tr>\n",
       "      <th>99</th>\n",
       "      <td>95</td>\n",
       "      <td>36</td>\n",
       "      <td>11</td>\n",
       "      <td>54</td>\n",
       "      <td>12</td>\n",
       "      <td>65</td>\n",
       "    </tr>\n",
       "  </tbody>\n",
       "</table>\n",
       "<p>100 rows × 6 columns</p>\n",
       "</div>"
      ],
      "text/plain": [
       "     A   B   C   D   E    F\n",
       "0   44  64  88  70   8  158\n",
       "1   87   0   7  87  62   94\n",
       "2   10  80   7  34  34   41\n",
       "3   32   4  40  27   6   67\n",
       "4   72  71  11  33  32   44\n",
       "..  ..  ..  ..  ..  ..  ...\n",
       "95  57  74  28  35  88   63\n",
       "96  20  35   9  72  23   81\n",
       "97  63  98  48  98  35  146\n",
       "98  81  95  23  22  61   45\n",
       "99  95  36  11  54  12   65\n",
       "\n",
       "[100 rows x 6 columns]"
      ]
     },
     "execution_count": 40,
     "metadata": {},
     "output_type": "execute_result"
    }
   ],
   "source": [
    "# CSV dosyasındaki verileri DataFrame olarak okumak için şu şekilde bir kod yazabiliriz:\n",
    "pd.read_csv('deneme.csv')"
   ]
  },
  {
   "cell_type": "markdown",
   "metadata": {},
   "source": [
    "### DateTime\n",
    "\n",
    "``pd.date_range(start, end, frequency, period)``"
   ]
  },
  {
   "cell_type": "code",
   "execution_count": 41,
   "metadata": {},
   "outputs": [
    {
     "data": {
      "text/plain": [
       "DatetimeIndex(['2020-03-01 00:00:00', '2020-03-08 12:00:00',\n",
       "               '2020-03-16 00:00:00', '2020-03-23 12:00:00',\n",
       "               '2020-03-31 00:00:00'],\n",
       "              dtype='datetime64[ns]', freq=None)"
      ]
     },
     "execution_count": 41,
     "metadata": {},
     "output_type": "execute_result"
    }
   ],
   "source": [
    "# pandas.date_range() metodu ile belli bir aralıkta tarihler oluşturabiliriz.\n",
    "# Ve bunu frequency ve periods parametreleri ile istediğimiz sıklıkta yapabiliriz.\n",
    "pd.date_range('2020-03-01', '2020-03-31', periods=5)"
   ]
  },
  {
   "cell_type": "code",
   "execution_count": 42,
   "metadata": {},
   "outputs": [
    {
     "data": {
      "text/plain": [
       "Timestamp('2023-03-30 00:00:00')"
      ]
     },
     "execution_count": 42,
     "metadata": {},
     "output_type": "execute_result"
    }
   ],
   "source": [
    "# pandas.to_datetime() metodu ile string tarihleri Timestamp objelerine çevirebiliriz.\n",
    "pd.to_datetime('2023-03-30')"
   ]
  },
  {
   "cell_type": "code",
   "execution_count": 43,
   "metadata": {},
   "outputs": [
    {
     "data": {
      "text/plain": [
       "datetime.datetime(2023, 6, 2, 21, 28, 7, 886276)"
      ]
     },
     "execution_count": 43,
     "metadata": {},
     "output_type": "execute_result"
    }
   ],
   "source": [
    "# Burada datetime ve relativedelta modüllerini kullanarak bir ay önceki tarihi bulduk.\n",
    "datetime.datetime.now() - rd.relativedelta(months=1)"
   ]
  },
  {
   "cell_type": "markdown",
   "metadata": {},
   "source": [
    "# MatPlotLib"
   ]
  },
  {
   "cell_type": "markdown",
   "metadata": {},
   "source": [
    "### Basic Plots\n",
    "\n",
    "``plt.plot()``\n",
    "``plt.scatter()``\n",
    "``plt.bar()``\n",
    "``plt.stem()``\n",
    "``plt.step()``\n",
    "``plt.fill_between()``"
   ]
  },
  {
   "cell_type": "code",
   "execution_count": 44,
   "metadata": {},
   "outputs": [
    {
     "data": {
      "image/png": "[encoded data removed]",
      "text/plain": [
       "<Figure size 640x480 with 1 Axes>"
      ]
     },
     "metadata": {},
     "output_type": "display_data"
    }
   ],
   "source": [
    "plt.plot(np.random.randint(0, 10, 90))\n",
    "# plt.plot(np.random.randint(0, 10, 90))\n",
    "\n",
    "plt.show()"
   ]
  },
  {
   "cell_type": "code",
   "execution_count": 45,
   "metadata": {},
   "outputs": [
    {
     "data": {
      "image/png": "[encoded data removed]",
      "text/plain": [
       "<Figure size 500x500 with 1 Axes>"
      ]
     },
     "metadata": {},
     "output_type": "display_data"
    }
   ],
   "source": [
    "plt.figure(figsize=(5, 5))\n",
    "\n",
    "x = np.linspace(0, 100, 1000)\n",
    "\n",
    "y1 = [2 * np.math.cos(2*a) for a in x]\n",
    "y2 = [2 * np.math.sin(2*a) for a in x]\n",
    "\n",
    "plt.plot(y1, y2)\n",
    "\n",
    "plt.show()"
   ]
  },
  {
   "cell_type": "code",
   "execution_count": 46,
   "metadata": {},
   "outputs": [
    {
     "data": {
      "image/png": "[encoded data removed]",
      "text/plain": [
       "<Figure size 640x480 with 1 Axes>"
      ]
     },
     "metadata": {},
     "output_type": "display_data"
    }
   ],
   "source": [
    "plt.scatter(x, y1)\n",
    "\n",
    "plt.show()"
   ]
  },
  {
   "cell_type": "code",
   "execution_count": 47,
   "metadata": {},
   "outputs": [
    {
     "data": {
      "image/png": "[encoded data removed]",
      "text/plain": [
       "<Figure size 640x480 with 1 Axes>"
      ]
     },
     "metadata": {},
     "output_type": "display_data"
    }
   ],
   "source": [
    "plt.bar(x=[1, 2, 3, 4, 5], height=[50, 60, 80, 50, 72])\n",
    "\n",
    "plt.show()"
   ]
  },
  {
   "cell_type": "code",
   "execution_count": 48,
   "metadata": {},
   "outputs": [
    {
     "data": {
      "text/html": [
       "<div>\n",
       "<style scoped>\n",
       "    .dataframe tbody tr th:only-of-type {\n",
       "        vertical-align: middle;\n",
       "    }\n",
       "\n",
       "    .dataframe tbody tr th {\n",
       "        vertical-align: top;\n",
       "    }\n",
       "\n",
       "    .dataframe thead th {\n",
       "        text-align: right;\n",
       "    }\n",
       "</style>\n",
       "<table border=\"1\" class=\"dataframe\">\n",
       "  <thead>\n",
       "    <tr style=\"text-align: right;\">\n",
       "      <th></th>\n",
       "      <th>A</th>\n",
       "      <th>B</th>\n",
       "      <th>C</th>\n",
       "      <th>D</th>\n",
       "      <th>E</th>\n",
       "      <th>F</th>\n",
       "    </tr>\n",
       "  </thead>\n",
       "  <tbody>\n",
       "    <tr>\n",
       "      <th>0</th>\n",
       "      <td>44</td>\n",
       "      <td>64</td>\n",
       "      <td>88</td>\n",
       "      <td>70</td>\n",
       "      <td>8</td>\n",
       "      <td>158</td>\n",
       "    </tr>\n",
       "    <tr>\n",
       "      <th>1</th>\n",
       "      <td>87</td>\n",
       "      <td>0</td>\n",
       "      <td>7</td>\n",
       "      <td>87</td>\n",
       "      <td>62</td>\n",
       "      <td>94</td>\n",
       "    </tr>\n",
       "    <tr>\n",
       "      <th>2</th>\n",
       "      <td>10</td>\n",
       "      <td>80</td>\n",
       "      <td>7</td>\n",
       "      <td>34</td>\n",
       "      <td>34</td>\n",
       "      <td>41</td>\n",
       "    </tr>\n",
       "    <tr>\n",
       "      <th>3</th>\n",
       "      <td>32</td>\n",
       "      <td>4</td>\n",
       "      <td>40</td>\n",
       "      <td>27</td>\n",
       "      <td>6</td>\n",
       "      <td>67</td>\n",
       "    </tr>\n",
       "    <tr>\n",
       "      <th>4</th>\n",
       "      <td>72</td>\n",
       "      <td>71</td>\n",
       "      <td>11</td>\n",
       "      <td>33</td>\n",
       "      <td>32</td>\n",
       "      <td>44</td>\n",
       "    </tr>\n",
       "    <tr>\n",
       "      <th>...</th>\n",
       "      <td>...</td>\n",
       "      <td>...</td>\n",
       "      <td>...</td>\n",
       "      <td>...</td>\n",
       "      <td>...</td>\n",
       "      <td>...</td>\n",
       "    </tr>\n",
       "    <tr>\n",
       "      <th>95</th>\n",
       "      <td>57</td>\n",
       "      <td>74</td>\n",
       "      <td>28</td>\n",
       "      <td>35</td>\n",
       "      <td>88</td>\n",
       "      <td>63</td>\n",
       "    </tr>\n",
       "    <tr>\n",
       "      <th>96</th>\n",
       "      <td>20</td>\n",
       "      <td>35</td>\n",
       "      <td>9</td>\n",
       "      <td>72</td>\n",
       "      <td>23</td>\n",
       "      <td>81</td>\n",
       "    </tr>\n",
       "    <tr>\n",
       "      <th>97</th>\n",
       "      <td>63</td>\n",
       "      <td>98</td>\n",
       "      <td>48</td>\n",
       "      <td>98</td>\n",
       "      <td>35</td>\n",
       "      <td>146</td>\n",
       "    </tr>\n",
       "    <tr>\n",
       "      <th>98</th>\n",
       "      <td>81</td>\n",
       "      <td>95</td>\n",
       "      <td>23</td>\n",
       "      <td>22</td>\n",
       "      <td>61</td>\n",
       "      <td>45</td>\n",
       "    </tr>\n",
       "    <tr>\n",
       "      <th>99</th>\n",
       "      <td>95</td>\n",
       "      <td>36</td>\n",
       "      <td>11</td>\n",
       "      <td>54</td>\n",
       "      <td>12</td>\n",
       "      <td>65</td>\n",
       "    </tr>\n",
       "  </tbody>\n",
       "</table>\n",
       "<p>100 rows × 6 columns</p>\n",
       "</div>"
      ],
      "text/plain": [
       "     A   B   C   D   E    F\n",
       "0   44  64  88  70   8  158\n",
       "1   87   0   7  87  62   94\n",
       "2   10  80   7  34  34   41\n",
       "3   32   4  40  27   6   67\n",
       "4   72  71  11  33  32   44\n",
       "..  ..  ..  ..  ..  ..  ...\n",
       "95  57  74  28  35  88   63\n",
       "96  20  35   9  72  23   81\n",
       "97  63  98  48  98  35  146\n",
       "98  81  95  23  22  61   45\n",
       "99  95  36  11  54  12   65\n",
       "\n",
       "[100 rows x 6 columns]"
      ]
     },
     "execution_count": 48,
     "metadata": {},
     "output_type": "execute_result"
    }
   ],
   "source": [
    "df"
   ]
  },
  {
   "cell_type": "code",
   "execution_count": 49,
   "metadata": {},
   "outputs": [
    {
     "name": "stderr",
     "output_type": "stream",
     "text": [
      "C:\\Users\\Yunus\\anaconda3\\lib\\site-packages\\pandas\\plotting\\_matplotlib\\core.py:1114: UserWarning: No data for colormapping provided via 'c'. Parameters 'cmap' will be ignored\n",
      "  scatter = ax.scatter(\n"
     ]
    },
    {
     "data": {
      "text/plain": [
       "<Axes: xlabel='A', ylabel='B'>"
      ]
     },
     "execution_count": 49,
     "metadata": {},
     "output_type": "execute_result"
    },
    {
     "data": {
      "image/png": "[encoded data removed]",
      "text/plain": [
       "<Figure size 640x480 with 1 Axes>"
      ]
     },
     "metadata": {},
     "output_type": "display_data"
    }
   ],
   "source": [
    "# Gördüğünüz gibi DataFrame'in içerisindeki verileri çizdirmek için dataframe objesinin kendi metodu da var.\n",
    "df.plot(kind='scatter', x='A', y='B')"
   ]
  },
  {
   "cell_type": "markdown",
   "metadata": {},
   "source": [
    "### Statistical Plots\n",
    "\n",
    "``plt.hist()``\n",
    "``plt.pie()``\n",
    "``plt.boxplot()``"
   ]
  },
  {
   "cell_type": "code",
   "execution_count": 50,
   "metadata": {},
   "outputs": [
    {
     "data": {
      "image/png": "[encoded data removed]",
      "text/plain": [
       "<Figure size 640x480 with 1 Axes>"
      ]
     },
     "metadata": {},
     "output_type": "display_data"
    }
   ],
   "source": [
    "plt.hist(y1, bins=100)\n",
    "\n",
    "plt.show()"
   ]
  },
  {
   "cell_type": "code",
   "execution_count": null,
   "metadata": {},
   "outputs": [],
   "source": []
  },
  {
   "cell_type": "code",
   "execution_count": null,
   "metadata": {},
   "outputs": [],
   "source": []
  }
 ],
 "metadata": {
  "kernelspec": {
   "display_name": "Python 3 (ipykernel)",
   "language": "python",
   "name": "python3"
  },
  "language_info": {
   "codemirror_mode": {
    "name": "ipython",
    "version": 3
   },
   "file_extension": ".py",
   "mimetype": "text/x-python",
   "name": "python",
   "nbconvert_exporter": "python",
   "pygments_lexer": "ipython3",
   "version": "3.8.8"
  }
 },
 "nbformat": 4,
 "nbformat_minor": 1
}
